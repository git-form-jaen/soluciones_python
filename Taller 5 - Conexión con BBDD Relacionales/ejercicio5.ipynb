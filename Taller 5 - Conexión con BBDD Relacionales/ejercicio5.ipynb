{
 "cells": [
  {
   "cell_type": "markdown",
   "id": "5b8862ce",
   "metadata": {
    "date": "2025-02-22",
    "title": "Caso práctico: Conexión con BBDD"
   },
   "source": [
    "# Introducción  \n",
    "\n",
    "En Python, se puede interactuar con bases de datos relacionales de dos maneras principales:  \n",
    "\n",
    "## Usando módulos que implementan DBAPI  \n",
    "\n",
    "DBAPI es un estándar en Python que define una interfaz uniforme para interactuar con bases de datos relacionales, independientemente del sistema de base de datos utilizado.  \n",
    "\n",
    "Algunos de los módulos más comunes que implementan DBAPI son:  \n",
    "- `sqlite3`: Para bases de datos **SQLite** (incluido en la biblioteca estándar de Python, sin necesidad de instalación adicional).  \n",
    "- `PyMySQL`: Para conectar con **MySQL**.  \n",
    "- `psycopg2`: Para conectar con **PostgreSQL**.  \n",
    "\n",
    "Este enfoque es el más básico, ya que el programador **escribe las consultas SQL manualmente y maneja las transacciones directamente**.  \n",
    "\n",
    "**En este ejercicio, utilizaremos este enfoque (DBAPI) para interactuar con SQLite y MySQL.**  \n",
    "\n",
    "## Usando Object-Relational Mapping (ORM)  \n",
    "\n",
    "Es una técnica que permite mapear tablas de bases de datos relacionales a clases de objetos en lenguajes de programación orientados a objetos. En lugar de escribir consultas SQL manualmente, puedes manipular los datos de la base de datos utilizando clases y objetos Python.  \n",
    "\n",
    "Un ejemplo de ORM en Python es **SQLAlchemy**, que permite trabajar con bases de datos de forma más abstracta.  \n",
    "\n",
    "\n",
    "- **Si necesitas mayor rendimiento, usa DBAPI (`sqlite3`, `pymysql`, `psycopg2`).**\n",
    "- **Si prefieres trabajar con objetos y una mayor abstracción, usa SQLAlchemy.**\n",
    "\n",
    "Cada opción tiene su uso dependiendo del contexto del proyecto. "
   ]
  },
  {
   "cell_type": "markdown",
   "id": "bd2b5304",
   "metadata": {},
   "source": [
    "# Carga Incremental de Datos desde SQLite a MySQL\n",
    "\n",
    "En este ejercicio, desarrollaremos un sistema para realizar cargas incrementales de datos desde una base de datos SQLite hacia un **Operational Data Store (ODS)** en MySQL. \n",
    "\n",
    "## Contexto\n",
    "\n",
    "La empresa **Zprinter** opera varias tiendas, cada una registrando pedidos en su propia base de datos SQLite. Para centralizar la información y facilitar la toma de decisiones estratégicas, consolidaremos estos datos en un ODS basado en MySQL. \n",
    "\n",
    "### Instrucciones:\n",
    "1. Ejecutar los scripts de inicialización para poblar las bases de datos SQLite y MySQL.\n",
    "2. Obtener la última fecha de actualización desde MySQL.\n",
    "3. Extraer solo los nuevos o modificados registros desde SQLite.\n",
    "4. Insertar estos registros en MySQL para actualizar la tabla `orders`."
   ]
  },
  {
   "cell_type": "markdown",
   "id": "399c7d0a",
   "metadata": {},
   "source": [
    "# Ejecutar los scripts de inicialización"
   ]
  },
  {
   "cell_type": "markdown",
   "id": "573ed36c",
   "metadata": {},
   "source": [
    "## SQLite"
   ]
  },
  {
   "cell_type": "markdown",
   "id": "0cd64041",
   "metadata": {},
   "source": [
    "Ejecutaremos el script que inicializa la base de datos **SQLite** en el archivo `database/zprinter.db`.\n",
    "SQLite es una base de datos **ligera y embebida** que no requiere de servidor. Se almacena en un solo archivo y es ideal para aplicaciones que necesitan una base de datos simple, por ejemplo, para desarrollo o aplicaciones móviles.\n",
    "\n",
    "### ¿Qué hace este script?  \n",
    "1. **Crea la carpeta `database/`** (si no existe) y el archivo `zprinter.db`, que contendrá nuestra base de datos.  \n",
    "2. **Elimina la tabla `orders` si ya existe** y la vuelve a crear con las siguientes columnas:  \n",
    "   - `order_id`: Identificador único del pedido.  \n",
    "   - `client_id`: Identificador del cliente.  \n",
    "   - `status`: Estado del pedido (`Pendiente de pago`, `En proceso`, etc.).  \n",
    "   - `last_updated`: Fecha y hora de la última actualización.  \n",
    "3. **Inserta pedidos de ejemplo**, incluyendo algunos que ya existen en MySQL y otros nuevos que se sincronizarán más adelante.  \n",
    "\n",
    "Este paso es fundamental, ya que nos aseguramos de tener datos en SQLite antes de realizar la carga incremental hacia MySQL."
   ]
  },
  {
   "cell_type": "code",
   "execution_count": 2,
   "id": "60ebc232",
   "metadata": {},
   "outputs": [
    {
     "name": "stdout",
     "output_type": "stream",
     "text": [
      "Base de datos SQLite creada.\n"
     ]
    }
   ],
   "source": [
    "import os\n",
    "import sqlite3\n",
    "\n",
    "# Conectar a SQLite y crear la base de datos y tabla\n",
    "os.makedirs(\"database\", exist_ok=True)\n",
    "conn_sqlite = sqlite3.connect(\"database/zprinter.db\")\n",
    "cursor_sqlite = conn_sqlite.cursor()\n",
    "\n",
    "cursor_sqlite.execute(\"DROP TABLE IF EXISTS orders;\")  # Elimina la tabla si ya existe\n",
    "cursor_sqlite.execute(\"\"\"\n",
    "CREATE TABLE IF NOT EXISTS orders (\n",
    "    order_id INTEGER PRIMARY KEY,\n",
    "    client_id INTEGER,\n",
    "    status TEXT,\n",
    "    last_updated TEXT\n",
    ");\n",
    "\"\"\")\n",
    "\n",
    "# Insertar más registros que en MySQL\n",
    "pedidos_iniciales = [\n",
    "    (1, 100, \"Pendiente de pago\", \"2024-04-01 10:00:00\"),  # Ya existe en MySQL\n",
    "    (2, 101, \"En proceso\", \"2024-04-02 11:30:00\"),        # Ya existe en MySQL\n",
    "    (3, 102, \"Enviado\", \"2024-04-03 12:45:00\"),          # Nuevo (no está en MySQL)\n",
    "    (4, 103, \"Enviado\", \"2024-04-04 09:20:00\"),          # Nuevo\n",
    "    (5, 104, \"En proceso\", \"2024-04-05 16:15:00\"),       # Nuevo\n",
    "    (6, 105, \"Cancelado\", \"2024-04-06 14:10:00\"),        # Nuevo\n",
    "    (7, 106, \"Pendiente de pago\", \"2024-04-07 18:00:00\") # Nuevo\n",
    "]\n",
    "\n",
    "cursor_sqlite.executemany(\n",
    "    \"INSERT INTO orders (order_id, client_id, status, last_updated) VALUES (?, ?, ?, ?);\",\n",
    "    pedidos_iniciales\n",
    ")\n",
    "conn_sqlite.commit()\n",
    "cursor_sqlite.close()\n",
    "conn_sqlite.close()\n",
    "\n",
    "print(\"Base de datos SQLite creada.\")"
   ]
  },
  {
   "cell_type": "markdown",
   "id": "9fb73b5e",
   "metadata": {},
   "source": [
    "## MySQL"
   ]
  },
  {
   "cell_type": "markdown",
   "id": "f6c33efd",
   "metadata": {},
   "source": [
    "Para configurar la base de datos MySQL y crear la tabla `orders`, podemos ejecutar el siguiente script SQL de varias maneras.  \n",
    "\n",
    "### **Opción 1: Usando la terminal de MySQL**  \n",
    "1. **Abrir MySQL desde la terminal**  \n",
    "   - Si tienes **MySQL instalado localmente**, abre la terminal y ejecuta:  \n",
    "     ```sh\n",
    "     mysql -u root -p\n",
    "     ```\n",
    "     Luego, ingresa tu contraseña cuando se te solicite.  \n",
    "\n",
    "   - Si usas **MySQL en Docker**, primero inicia el contenedor y accede:  \n",
    "     ```sh\n",
    "     docker exec -it <nombre_del_contenedor> mysql -u root -p\n",
    "     ```\n",
    "  \n",
    "2. **Ejecutar el script SQL**  \n",
    "   Una vez dentro del entorno de MySQL, copia y pega el siguiente código y presiona **Enter**:  \n",
    "\n",
    "   ```sql\n",
    "   CREATE DATABASE IF NOT EXISTS nter_python; \n",
    "   USE nter_python;\n",
    "\n",
    "   DROP TABLE IF EXISTS orders;\n",
    "   CREATE TABLE IF NOT EXISTS orders (\n",
    "     order_id INT PRIMARY KEY,\n",
    "     client_id INT,\n",
    "     status VARCHAR(30),\n",
    "     last_updated TIMESTAMP\n",
    "   );\n",
    "\n",
    "   INSERT INTO orders (order_id, client_id, status, last_updated)\n",
    "   VALUES\n",
    "   (1, 100, 'Pendiente de pago', '2024-04-01 10:00:00'),\n",
    "   (2, 101, 'En proceso', '2024-04-02 11:30:00');\n",
    "   ```\n",
    "\n",
    "---\n",
    "\n",
    "### **Opción 2: Usando MySQL Workbench**  \n",
    "\n",
    "Si prefieres una interfaz gráfica, puedes utilizar **MySQL Workbench** para ejecutar el script:  \n",
    "\n",
    "1. **Abrir MySQL Workbench** y conectar con el servidor.  \n",
    "2. **Crear una nueva consulta** haciendo clic en **\"File\" → \"New Query Tab\"**.  \n",
    "3. **Copiar y pegar el script SQL** en el editor de consultas.  \n",
    "4. **Ejecutar el script** presionando el botón de \"Run\" (⚡) o con `Ctrl + Enter`.  \n"
   ]
  },
  {
   "cell_type": "markdown",
   "id": "d8e148ec",
   "metadata": {},
   "source": [
    "## Obtener la última fecha de actualización desde MySQL."
   ]
  },
  {
   "cell_type": "markdown",
   "id": "640bef53",
   "metadata": {},
   "source": [
    "## Conexión con MySQL"
   ]
  },
  {
   "cell_type": "markdown",
   "id": "1347f88a",
   "metadata": {},
   "source": [
    "### Cargar librerías y configurar variables de entorno\n",
    "\n",
    "Para conectar con **MySQL**, utilizamos variables de entorno almacenadas en un archivo `.env`; es preferible a tener las credenciales escritas directamente en el código.\n",
    "\n",
    "Usamos `dotenv` para cargarlas desde el entorno:\n",
    "\n",
    "Para **MySQL** se obtienen el host, puerto, usuario, contraseña y base de datos.\n",
    "\n",
    "Para **SQLite** definimos la ruta del archivo de la base de datos SQLite"
   ]
  },
  {
   "cell_type": "code",
   "execution_count": 3,
   "id": "0cc9f937",
   "metadata": {},
   "outputs": [],
   "source": [
    "# Importamos las librerías necesarias\n",
    "import os  # Para manejar variables de entorno y rutas de archivos\n",
    "import sqlite3  # Para conectarnos y trabajar con bases de datos SQLite\n",
    "import pymysql  # Para conectarnos y trabajar con bases de datos MySQL\n",
    "from dotenv import load_dotenv  # Para cargar variables de entorno desde un archivo .env\n",
    "\n",
    "# Cargar las variables de entorno desde un archivo .env\n",
    "load_dotenv()\n",
    "\n",
    "# Obtener las credenciales de conexión a MySQL desde las variables de entorno\n",
    "MYSQL_HOST = os.getenv(\"MYSQL_HOST\")  # Dirección del servidor MySQL\n",
    "MYSQL_PORT = int(os.getenv(\"MYSQL_PORT\", 3306))  # Puerto de conexión a MySQL (por defecto 3306)\n",
    "MYSQL_USER = os.getenv(\"MYSQL_USER\")  # Usuario de MySQL\n",
    "MYSQL_PASSWORD = os.getenv(\"MYSQL_PASSWORD\")  # Contraseña de MySQL\n",
    "MYSQL_DB = os.getenv(\"MYSQL_DB\")  # Nombre de la base de datos en MySQL\n",
    "\n",
    "# Definir la ruta del archivo de la base de datos SQLite\n",
    "SQLITE_DB_PATH = \"database/zprinter.db\"  # Ubicación del archivo SQLite local\n"
   ]
  },
  {
   "cell_type": "markdown",
   "id": "58a77fc7",
   "metadata": {},
   "source": [
    "### Para conectarnos a MySQL desde Python utilizando `pymysql`:\n",
    "\n",
    "1. Se intenta establecer una conexión a MySQL utilizando `pymysql.connect()`.\n",
    "2. Se pasan los parámetros de conexión como `host`, `user`, `password`, `db` y `port`.\n",
    "3. Si la conexión es exitosa, se muestra un mensaje de confirmación.\n",
    "4. Si ocurre un error, se captura la excepción `MySQLError` y se muestra un mensaje de error."
   ]
  },
  {
   "cell_type": "code",
   "execution_count": 5,
   "id": "5c5dbcbb",
   "metadata": {},
   "outputs": [
    {
     "name": "stdout",
     "output_type": "stream",
     "text": [
      "Conectado a MySQL correctamente\n"
     ]
    }
   ],
   "source": [
    "try:\n",
    "    conn_mysql = pymysql.connect(\n",
    "        host=MYSQL_HOST,\n",
    "        user=MYSQL_USER,\n",
    "        password=MYSQL_PASSWORD,\n",
    "        db=MYSQL_DB,\n",
    "        port=MYSQL_PORT\n",
    "    )\n",
    "    print(\"Conectado a MySQL correctamente\")\n",
    "except pymysql.MySQLError as e:\n",
    "    print(f\"Error al conectarse a MySQL: {e}\")\n"
   ]
  },
  {
   "cell_type": "markdown",
   "id": "14757f01",
   "metadata": {},
   "source": [
    "## Obtener la última fecha de actualización en MySQL"
   ]
  },
  {
   "cell_type": "markdown",
   "id": "b5359638",
   "metadata": {},
   "source": [
    "1. **Se verifica la conexión** (`if conn_mysql`) antes de ejecutar la consulta.\n",
    "2. **Se crea un cursor** para ejecutar comandos SQL en MySQL.\n",
    "3. **Consulta SQL:**\n",
    "   - `MAX(last_updated)`: Obtiene la última fecha de actualización de la tabla `orders`.\n",
    "   - `COALESCE(..., '1900-01-01')`: Si la tabla está vacía, devuelve `'1900-01-01'` como valor predeterminado.\n",
    "4. **Se ejecuta la consulta** y se obtiene el resultado con `fetchone()`, que devuelve una única fila como una tupla.\n",
    "5. **`fetchone()` y `result[0]`**:\n",
    "   - `fetchone()` devuelve una tupla con los valores de la fila obtenida de la consulta.\n",
    "   - `result[0]` se usa para extraer el primer (y único) valor de la tupla, que en este caso es la última fecha de actualización.\n",
    "6. **Se cierra el cursor** para liberar recursos.\n",
    "7. **Se imprime la última fecha de actualización**, o si no hay registros, se asigna `'1900-01-01 00:00:00'` por defecto."
   ]
  },
  {
   "cell_type": "code",
   "execution_count": 6,
   "id": "107ebd8d",
   "metadata": {},
   "outputs": [
    {
     "name": "stdout",
     "output_type": "stream",
     "text": [
      "Última actualización en MySQL: 2024-04-02 11:30:00\n"
     ]
    }
   ],
   "source": [
    "if conn_mysql:\n",
    "    cursor_mysql = conn_mysql.cursor()\n",
    "    mysql_query = \"\"\"SELECT COALESCE(MAX(last_updated), '1900-01-01') FROM orders;\"\"\"\n",
    "    cursor_mysql.execute(mysql_query)\n",
    "    result = cursor_mysql.fetchone()\n",
    "    cursor_mysql.close()\n",
    "    \n",
    "    if result:\n",
    "        last_updated = result[0]  \n",
    "        print(\"Última actualización en MySQL:\", last_updated)\n",
    "    else:\n",
    "        print(\"No se encontraron registros en MySQL.\")\n",
    "        last_updated = \"1900-01-01 00:00:00\"\n"
   ]
  },
  {
   "cell_type": "markdown",
   "id": "2bab4e74",
   "metadata": {},
   "source": [
    "## Conectar a SQLite y obtener datos nuevos"
   ]
  },
  {
   "cell_type": "code",
   "execution_count": 7,
   "id": "d4260df3",
   "metadata": {},
   "outputs": [],
   "source": [
    "conn_sqlite = sqlite3.connect(SQLITE_DB_PATH)\n",
    "cursor_sqlite = conn_sqlite.cursor()\n"
   ]
  },
  {
   "cell_type": "markdown",
   "id": "efe7152e",
   "metadata": {},
   "source": [
    "- Se usa `sqlite3.connect` para conectarse a la base de datos SQLite.\n",
    "- Se crea un cursor (`cursor_sqlite`) para ejecutar consultas en la base de datos."
   ]
  },
  {
   "cell_type": "code",
   "execution_count": 8,
   "id": "a35ce54c",
   "metadata": {},
   "outputs": [],
   "source": [
    "sqlite_query = \"\"\"SELECT * FROM Orders WHERE last_updated > ?;\"\"\"\n",
    "cursor_sqlite.execute(sqlite_query, (last_updated,))\n",
    "results = cursor_sqlite.fetchall()"
   ]
  },
  {
   "cell_type": "markdown",
   "id": "0f308197",
   "metadata": {},
   "source": [
    "- Se usa `last_updated` obtenido de MySQL como referencia para extraer solo los registros más recientes.\n",
    "- `fetchall()` recupera todas las filas que cumplen la condición."
   ]
  },
  {
   "cell_type": "code",
   "execution_count": 9,
   "id": "632b0b11",
   "metadata": {},
   "outputs": [],
   "source": [
    "cursor_sqlite.close()\n",
    "conn_sqlite.close()"
   ]
  },
  {
   "cell_type": "markdown",
   "id": "24ff59e6",
   "metadata": {},
   "source": [
    "Se cierra el cursor y la conexión para liberar recursos y evitar bloqueos en la base de datos."
   ]
  },
  {
   "cell_type": "markdown",
   "id": "82a1f7cb",
   "metadata": {},
   "source": [
    "## Insertar los datos nuevos en MySQL"
   ]
  },
  {
   "cell_type": "code",
   "execution_count": 10,
   "id": "4aaff7a1",
   "metadata": {},
   "outputs": [
    {
     "name": "stdout",
     "output_type": "stream",
     "text": [
      "Datos sincronizados con MySQL correctamente.\n"
     ]
    }
   ],
   "source": [
    "# Este código toma los registros obtenidos previamente de SQLite y los inserta o actualiza en MySQL\n",
    "if results:\n",
    "    try:\n",
    "        # Se crea un cursor para ejecutar operaciones SQL en la conexión MySQL\n",
    "        cursor_mysql = conn_mysql.cursor()\n",
    "        \n",
    "        # Se define la consulta SQL para insertar nuevos registros o actualizar los existentes.\n",
    "        # La consulta utiliza 'ON DUPLICATE KEY UPDATE' para:\n",
    "        # - Insertar un nuevo registro si 'order_id' no existe.\n",
    "        # - Actualizar 'client_id', 'status' y 'last_updated' si el registro ya existe.\n",
    "        insert_query = \"\"\"\n",
    "            INSERT INTO orders (order_id, client_id, status, last_updated)\n",
    "            VALUES (%s, %s, %s, %s)\n",
    "            ON DUPLICATE KEY UPDATE \n",
    "                client_id=VALUES(client_id),\n",
    "                status=VALUES(status),\n",
    "                last_updated=VALUES(last_updated)\n",
    "        \"\"\"\n",
    "        \n",
    "        # Se ejecuta la consulta para cada elemento en 'results' utilizando 'executemany',\n",
    "        # lo que permite procesar múltiples registros en una sola llamada.\n",
    "        cursor_mysql.executemany(insert_query, results)\n",
    "        \n",
    "        # Se confirman los cambios en la base de datos\n",
    "        conn_mysql.commit()\n",
    "        print(\"Datos sincronizados con MySQL correctamente.\")\n",
    "    \n",
    "    # Se captura cualquier excepción específica de pymysql y se muestra un mensaje de error.\n",
    "    except pymysql.MySQLError as e:\n",
    "        print(f\"Error al insertar datos en MySQL: {e}\")\n",
    "    \n",
    "    # El bloque 'finally' garantiza que, independientemente del resultado, se liberen los recursos.\n",
    "    finally:\n",
    "        cursor_mysql.close()\n",
    "        conn_mysql.close()\n"
   ]
  }
 ],
 "metadata": {
  "kernelspec": {
   "display_name": "Python 3 (ipykernel)",
   "language": "python",
   "name": "python3"
  },
  "language_info": {
   "codemirror_mode": {
    "name": "ipython",
    "version": 3
   },
   "file_extension": ".py",
   "mimetype": "text/x-python",
   "name": "python",
   "nbconvert_exporter": "python",
   "pygments_lexer": "ipython3",
   "version": "3.12.0"
  }
 },
 "nbformat": 4,
 "nbformat_minor": 5
}
