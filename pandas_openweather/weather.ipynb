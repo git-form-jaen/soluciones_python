{
 "cells": [
  {
   "cell_type": "markdown",
   "metadata": {},
   "source": [
    "# Leer el csv"
   ]
  },
  {
   "cell_type": "code",
   "execution_count": 20,
   "metadata": {},
   "outputs": [],
   "source": [
    "import pandas as pd"
   ]
  },
  {
   "cell_type": "code",
   "execution_count": 21,
   "metadata": {},
   "outputs": [],
   "source": [
    "weather_df = pd.read_csv('weather.csv')"
   ]
  },
  {
   "cell_type": "markdown",
   "metadata": {},
   "source": [
    "# 1 - Temperatura máxima registrada"
   ]
  },
  {
   "cell_type": "code",
   "execution_count": 22,
   "metadata": {},
   "outputs": [
    {
     "data": {
      "text/plain": [
       "30.47"
      ]
     },
     "execution_count": 22,
     "metadata": {},
     "output_type": "execute_result"
    }
   ],
   "source": [
    "max_temp = weather_df['temp_max'].max()\n",
    "max_temp\n"
   ]
  },
  {
   "cell_type": "markdown",
   "metadata": {},
   "source": [
    "# 2 - Filtrar registros con temperatura minima menor a 17ºC"
   ]
  },
  {
   "cell_type": "code",
   "execution_count": 23,
   "metadata": {},
   "outputs": [
    {
     "data": {
      "application/vnd.microsoft.datawrangler.viewer.v0+json": {
       "columns": [
        {
         "name": "index",
         "rawType": "int64",
         "type": "integer"
        },
        {
         "name": "weather",
         "rawType": "object",
         "type": "string"
        },
        {
         "name": "dt_txt",
         "rawType": "object",
         "type": "string"
        },
        {
         "name": "temp",
         "rawType": "float64",
         "type": "float"
        },
        {
         "name": "feels_like",
         "rawType": "float64",
         "type": "float"
        },
        {
         "name": "temp_min",
         "rawType": "float64",
         "type": "float"
        },
        {
         "name": "temp_max",
         "rawType": "float64",
         "type": "float"
        },
        {
         "name": "humidity",
         "rawType": "int64",
         "type": "integer"
        },
        {
         "name": "wind_speed",
         "rawType": "float64",
         "type": "float"
        },
        {
         "name": "rain_3h",
         "rawType": "float64",
         "type": "float"
        },
        {
         "name": "city",
         "rawType": "object",
         "type": "string"
        }
       ],
       "conversionMethod": "pd.DataFrame",
       "ref": "d1e54143-6b72-466a-bf4b-c65135f147e1",
       "rows": [
        [
         "51",
         "Clouds",
         "2025-02-18 00:00:00",
         "16.83",
         "17.13",
         "16.83",
         "16.83",
         "98",
         "0.73",
         "0.0",
         "Seville"
        ],
        [
         "52",
         "Clouds",
         "2025-02-18 03:00:00",
         "16.62",
         "16.9",
         "16.62",
         "16.62",
         "98",
         "0.84",
         "0.0",
         "Seville"
        ],
        [
         "59",
         "Clouds",
         "2025-02-19 00:00:00",
         "16.96",
         "17.27",
         "16.96",
         "16.96",
         "98",
         "0.88",
         "0.0",
         "Seville"
        ],
        [
         "60",
         "Clouds",
         "2025-02-19 03:00:00",
         "16.58",
         "16.8",
         "16.58",
         "16.58",
         "96",
         "0.61",
         "0.0",
         "Seville"
        ]
       ],
       "shape": {
        "columns": 10,
        "rows": 4
       }
      },
      "text/html": [
       "<div>\n",
       "<style scoped>\n",
       "    .dataframe tbody tr th:only-of-type {\n",
       "        vertical-align: middle;\n",
       "    }\n",
       "\n",
       "    .dataframe tbody tr th {\n",
       "        vertical-align: top;\n",
       "    }\n",
       "\n",
       "    .dataframe thead th {\n",
       "        text-align: right;\n",
       "    }\n",
       "</style>\n",
       "<table border=\"1\" class=\"dataframe\">\n",
       "  <thead>\n",
       "    <tr style=\"text-align: right;\">\n",
       "      <th></th>\n",
       "      <th>weather</th>\n",
       "      <th>dt_txt</th>\n",
       "      <th>temp</th>\n",
       "      <th>feels_like</th>\n",
       "      <th>temp_min</th>\n",
       "      <th>temp_max</th>\n",
       "      <th>humidity</th>\n",
       "      <th>wind_speed</th>\n",
       "      <th>rain_3h</th>\n",
       "      <th>city</th>\n",
       "    </tr>\n",
       "  </thead>\n",
       "  <tbody>\n",
       "    <tr>\n",
       "      <th>51</th>\n",
       "      <td>Clouds</td>\n",
       "      <td>2025-02-18 00:00:00</td>\n",
       "      <td>16.83</td>\n",
       "      <td>17.13</td>\n",
       "      <td>16.83</td>\n",
       "      <td>16.83</td>\n",
       "      <td>98</td>\n",
       "      <td>0.73</td>\n",
       "      <td>0.0</td>\n",
       "      <td>Seville</td>\n",
       "    </tr>\n",
       "    <tr>\n",
       "      <th>52</th>\n",
       "      <td>Clouds</td>\n",
       "      <td>2025-02-18 03:00:00</td>\n",
       "      <td>16.62</td>\n",
       "      <td>16.90</td>\n",
       "      <td>16.62</td>\n",
       "      <td>16.62</td>\n",
       "      <td>98</td>\n",
       "      <td>0.84</td>\n",
       "      <td>0.0</td>\n",
       "      <td>Seville</td>\n",
       "    </tr>\n",
       "    <tr>\n",
       "      <th>59</th>\n",
       "      <td>Clouds</td>\n",
       "      <td>2025-02-19 00:00:00</td>\n",
       "      <td>16.96</td>\n",
       "      <td>17.27</td>\n",
       "      <td>16.96</td>\n",
       "      <td>16.96</td>\n",
       "      <td>98</td>\n",
       "      <td>0.88</td>\n",
       "      <td>0.0</td>\n",
       "      <td>Seville</td>\n",
       "    </tr>\n",
       "    <tr>\n",
       "      <th>60</th>\n",
       "      <td>Clouds</td>\n",
       "      <td>2025-02-19 03:00:00</td>\n",
       "      <td>16.58</td>\n",
       "      <td>16.80</td>\n",
       "      <td>16.58</td>\n",
       "      <td>16.58</td>\n",
       "      <td>96</td>\n",
       "      <td>0.61</td>\n",
       "      <td>0.0</td>\n",
       "      <td>Seville</td>\n",
       "    </tr>\n",
       "  </tbody>\n",
       "</table>\n",
       "</div>"
      ],
      "text/plain": [
       "   weather               dt_txt   temp  feels_like  temp_min  temp_max  \\\n",
       "51  Clouds  2025-02-18 00:00:00  16.83       17.13     16.83     16.83   \n",
       "52  Clouds  2025-02-18 03:00:00  16.62       16.90     16.62     16.62   \n",
       "59  Clouds  2025-02-19 00:00:00  16.96       17.27     16.96     16.96   \n",
       "60  Clouds  2025-02-19 03:00:00  16.58       16.80     16.58     16.58   \n",
       "\n",
       "    humidity  wind_speed  rain_3h     city  \n",
       "51        98        0.73      0.0  Seville  \n",
       "52        98        0.84      0.0  Seville  \n",
       "59        98        0.88      0.0  Seville  \n",
       "60        96        0.61      0.0  Seville  "
      ]
     },
     "execution_count": 23,
     "metadata": {},
     "output_type": "execute_result"
    }
   ],
   "source": [
    "df_below_17 = weather_df[weather_df['temp_min'] < 17]\n",
    "df_below_17"
   ]
  },
  {
   "cell_type": "markdown",
   "metadata": {},
   "source": [
    "# 3 - Contar registros con meteorología lluviosa"
   ]
  },
  {
   "cell_type": "code",
   "execution_count": 24,
   "metadata": {},
   "outputs": [
    {
     "data": {
      "text/plain": [
       "11"
      ]
     },
     "execution_count": 24,
     "metadata": {},
     "output_type": "execute_result"
    }
   ],
   "source": [
    "rainy_days = len(weather_df[weather_df['weather'] == 'Rain'])\n",
    "rainy_days"
   ]
  },
  {
   "cell_type": "markdown",
   "metadata": {},
   "source": [
    "# 4 - Crear una nueva columna donde se convierta la temperatura de Celsius a Kelvin (Sumamos 273 al valor)"
   ]
  },
  {
   "cell_type": "code",
   "execution_count": 25,
   "metadata": {},
   "outputs": [],
   "source": [
    "weather_df['temp_k'] = weather_df['temp'] + 273"
   ]
  },
  {
   "cell_type": "markdown",
   "metadata": {},
   "source": [
    "# 5 - Ordenar por temperatura máxima en grados Celsius (descendente)"
   ]
  },
  {
   "cell_type": "code",
   "execution_count": 28,
   "metadata": {},
   "outputs": [
    {
     "data": {
      "application/vnd.microsoft.datawrangler.viewer.v0+json": {
       "columns": [
        {
         "name": "index",
         "rawType": "int64",
         "type": "integer"
        },
        {
         "name": "weather",
         "rawType": "object",
         "type": "string"
        },
        {
         "name": "dt_txt",
         "rawType": "object",
         "type": "string"
        },
        {
         "name": "temp",
         "rawType": "float64",
         "type": "float"
        },
        {
         "name": "feels_like",
         "rawType": "float64",
         "type": "float"
        },
        {
         "name": "temp_min",
         "rawType": "float64",
         "type": "float"
        },
        {
         "name": "temp_max",
         "rawType": "float64",
         "type": "float"
        },
        {
         "name": "humidity",
         "rawType": "int64",
         "type": "integer"
        },
        {
         "name": "wind_speed",
         "rawType": "float64",
         "type": "float"
        },
        {
         "name": "rain_3h",
         "rawType": "float64",
         "type": "float"
        },
        {
         "name": "city",
         "rawType": "object",
         "type": "string"
        },
        {
         "name": "temp_k",
         "rawType": "float64",
         "type": "float"
        }
       ],
       "conversionMethod": "pd.DataFrame",
       "ref": "e44dd992-6024-49e7-8608-5630ed96a548",
       "rows": [
        [
         "63",
         "Clouds",
         "2025-02-19 12:00:00",
         "30.47",
         "30.12",
         "30.47",
         "30.47",
         "39",
         "1.39",
         "0.0",
         "Seville",
         "303.47"
        ],
        [
         "55",
         "Clouds",
         "2025-02-18 12:00:00",
         "29.85",
         "29.11",
         "29.85",
         "29.85",
         "36",
         "1.5",
         "0.0",
         "Seville",
         "302.85"
        ],
        [
         "31",
         "Clouds",
         "2025-02-15 12:00:00",
         "29.74",
         "29.98",
         "29.74",
         "29.74",
         "45",
         "2.26",
         "0.0",
         "Seville",
         "302.74"
        ],
        [
         "47",
         "Rain",
         "2025-02-17 12:00:00",
         "29.17",
         "29.76",
         "29.17",
         "29.17",
         "49",
         "2.38",
         "0.45",
         "Seville",
         "302.17"
        ],
        [
         "38",
         "Clouds",
         "2025-02-16 09:00:00",
         "29.09",
         "30.03",
         "29.09",
         "29.09",
         "52",
         "1.54",
         "0.0",
         "Seville",
         "302.09"
        ],
        [
         "62",
         "Clouds",
         "2025-02-19 09:00:00",
         "28.87",
         "28.75",
         "28.87",
         "28.87",
         "43",
         "1.79",
         "0.0",
         "Seville",
         "301.87"
        ],
        [
         "30",
         "Clouds",
         "2025-02-15 09:00:00",
         "28.46",
         "29.2",
         "28.46",
         "28.46",
         "52",
         "1.73",
         "0.0",
         "Seville",
         "301.46"
        ],
        [
         "39",
         "Rain",
         "2025-02-16 12:00:00",
         "28.31",
         "29.22",
         "28.31",
         "28.31",
         "54",
         "2.39",
         "0.56",
         "Seville",
         "301.31"
        ],
        [
         "54",
         "Clouds",
         "2025-02-18 09:00:00",
         "28.26",
         "28.38",
         "28.26",
         "28.26",
         "46",
         "1.81",
         "0.0",
         "Seville",
         "301.26"
        ],
        [
         "46",
         "Clouds",
         "2025-02-17 09:00:00",
         "27.63",
         "28.64",
         "27.63",
         "27.63",
         "57",
         "2.03",
         "0.0",
         "Seville",
         "300.63"
        ],
        [
         "64",
         "Clouds",
         "2025-02-19 15:00:00",
         "26.92",
         "27.98",
         "26.92",
         "26.92",
         "60",
         "1.11",
         "0.0",
         "Seville",
         "299.92"
        ],
        [
         "56",
         "Clouds",
         "2025-02-18 15:00:00",
         "25.95",
         "25.95",
         "25.95",
         "25.95",
         "59",
         "1.5",
         "0.0",
         "Seville",
         "298.95"
        ],
        [
         "32",
         "Clouds",
         "2025-02-15 15:00:00",
         "25.15",
         "25.44",
         "25.15",
         "25.15",
         "66",
         "1.69",
         "0.0",
         "Seville",
         "298.15"
        ],
        [
         "48",
         "Clouds",
         "2025-02-17 15:00:00",
         "24.95",
         "25.28",
         "24.95",
         "24.95",
         "68",
         "1.85",
         "0.0",
         "Seville",
         "297.95"
        ],
        [
         "40",
         "Rain",
         "2025-02-16 15:00:00",
         "24.65",
         "25.08",
         "24.65",
         "24.65",
         "73",
         "1.01",
         "0.8",
         "Seville",
         "297.65"
        ],
        [
         "61",
         "Clouds",
         "2025-02-19 06:00:00",
         "23.53",
         "23.71",
         "23.53",
         "23.53",
         "68",
         "0.51",
         "0.0",
         "Seville",
         "296.53"
        ],
        [
         "29",
         "Clouds",
         "2025-02-15 06:00:00",
         "23.17",
         "23.4",
         "23.17",
         "23.17",
         "71",
         "0.9",
         "0.0",
         "Seville",
         "296.17"
        ],
        [
         "37",
         "Clouds",
         "2025-02-16 06:00:00",
         "22.63",
         "22.99",
         "22.63",
         "22.63",
         "78",
         "0.87",
         "0.0",
         "Seville",
         "295.63"
        ],
        [
         "53",
         "Clouds",
         "2025-02-18 06:00:00",
         "22.07",
         "22.45",
         "22.07",
         "22.07",
         "81",
         "0.79",
         "0.0",
         "Seville",
         "295.07"
        ],
        [
         "45",
         "Clouds",
         "2025-02-17 06:00:00",
         "21.8",
         "22.25",
         "21.8",
         "21.8",
         "85",
         "0.75",
         "0.0",
         "Seville",
         "294.8"
        ],
        [
         "33",
         "Clouds",
         "2025-02-15 18:00:00",
         "20.03",
         "20.23",
         "20.03",
         "20.03",
         "82",
         "1.78",
         "0.0",
         "Seville",
         "293.03"
        ],
        [
         "25",
         "Clouds",
         "2025-02-14 18:00:00",
         "19.68",
         "19.87",
         "19.68",
         "19.68",
         "83",
         "1.3",
         "0.0",
         "Seville",
         "292.68"
        ],
        [
         "57",
         "Clouds",
         "2025-02-18 18:00:00",
         "19.39",
         "19.5",
         "19.39",
         "19.39",
         "81",
         "1.42",
         "0.0",
         "Seville",
         "292.39"
        ],
        [
         "26",
         "Clouds",
         "2025-02-14 21:00:00",
         "19.14",
         "19.41",
         "18.06",
         "19.14",
         "88",
         "1.15",
         "0.0",
         "Seville",
         "292.14"
        ],
        [
         "41",
         "Rain",
         "2025-02-16 18:00:00",
         "19.13",
         "19.61",
         "19.13",
         "19.13",
         "96",
         "1.35",
         "2.15",
         "Seville",
         "292.13"
        ],
        [
         "49",
         "Rain",
         "2025-02-17 18:00:00",
         "18.88",
         "19.3",
         "18.88",
         "18.88",
         "95",
         "1.36",
         "0.79",
         "Seville",
         "291.88"
        ],
        [
         "20",
         "Clouds",
         "2025-02-17 06:00:00",
         "18.56",
         "18.56",
         "18.56",
         "18.56",
         "78",
         "6.89",
         "0.0",
         "London",
         "291.56"
        ],
        [
         "43",
         "Rain",
         "2025-02-17 00:00:00",
         "18.55",
         "19.05",
         "18.55",
         "18.55",
         "99",
         "0.64",
         "1.21",
         "Seville",
         "291.55"
        ],
        [
         "23",
         "Clouds",
         "2025-02-17 15:00:00",
         "18.53",
         "18.53",
         "18.53",
         "18.53",
         "81",
         "7.18",
         "0.0",
         "London",
         "291.53"
        ],
        [
         "22",
         "Clouds",
         "2025-02-17 12:00:00",
         "18.53",
         "18.53",
         "18.53",
         "18.53",
         "78",
         "6.37",
         "0.0",
         "London",
         "291.53"
        ],
        [
         "21",
         "Clouds",
         "2025-02-17 09:00:00",
         "18.49",
         "18.49",
         "18.49",
         "18.49",
         "78",
         "6.81",
         "0.0",
         "London",
         "291.49"
        ],
        [
         "14",
         "Clouds",
         "2025-02-16 12:00:00",
         "18.49",
         "18.49",
         "18.49",
         "18.49",
         "82",
         "6.6",
         "0.0",
         "London",
         "291.49"
        ],
        [
         "44",
         "Rain",
         "2025-02-17 03:00:00",
         "18.48",
         "18.92",
         "18.48",
         "18.48",
         "97",
         "0.36",
         "0.25",
         "Seville",
         "291.48"
        ],
        [
         "24",
         "Rain",
         "2025-02-17 18:00:00",
         "18.47",
         "18.47",
         "18.47",
         "18.47",
         "80",
         "7.31",
         "0.12",
         "London",
         "291.47"
        ],
        [
         "13",
         "Clouds",
         "2025-02-16 09:00:00",
         "18.47",
         "18.47",
         "18.47",
         "18.47",
         "80",
         "6.38",
         "0.0",
         "London",
         "291.47"
        ],
        [
         "15",
         "Clouds",
         "2025-02-16 15:00:00",
         "18.47",
         "18.47",
         "18.47",
         "18.47",
         "83",
         "6.83",
         "0.0",
         "London",
         "291.47"
        ],
        [
         "16",
         "Clouds",
         "2025-02-16 18:00:00",
         "18.46",
         "18.46",
         "18.46",
         "18.46",
         "83",
         "7.35",
         "0.0",
         "London",
         "291.46"
        ],
        [
         "19",
         "Clouds",
         "2025-02-17 03:00:00",
         "18.45",
         "18.45",
         "18.45",
         "18.45",
         "77",
         "7.18",
         "0.0",
         "London",
         "291.45"
        ],
        [
         "3",
         "Clouds",
         "2025-02-15 03:00:00",
         "18.44",
         "18.44",
         "18.44",
         "18.44",
         "79",
         "7.38",
         "0.0",
         "London",
         "291.44"
        ],
        [
         "12",
         "Clouds",
         "2025-02-16 06:00:00",
         "18.4",
         "18.4",
         "18.4",
         "18.4",
         "80",
         "6.34",
         "0.0",
         "London",
         "291.4"
        ],
        [
         "4",
         "Clouds",
         "2025-02-15 06:00:00",
         "18.36",
         "18.36",
         "18.36",
         "18.36",
         "80",
         "5.77",
         "0.0",
         "London",
         "291.36"
        ],
        [
         "17",
         "Clouds",
         "2025-02-16 21:00:00",
         "18.36",
         "18.36",
         "18.36",
         "18.36",
         "82",
         "7.91",
         "0.0",
         "London",
         "291.36"
        ],
        [
         "7",
         "Clouds",
         "2025-02-15 15:00:00",
         "18.35",
         "18.35",
         "18.35",
         "18.35",
         "81",
         "6.5",
         "0.0",
         "London",
         "291.35"
        ],
        [
         "2",
         "Clouds",
         "2025-02-15 00:00:00",
         "18.32",
         "18.32",
         "18.32",
         "18.35",
         "80",
         "7.07",
         "0.0",
         "London",
         "291.32"
        ],
        [
         "6",
         "Clouds",
         "2025-02-15 12:00:00",
         "18.34",
         "18.34",
         "18.34",
         "18.34",
         "80",
         "6.11",
         "0.0",
         "London",
         "291.34"
        ],
        [
         "5",
         "Rain",
         "2025-02-15 09:00:00",
         "18.31",
         "18.31",
         "18.31",
         "18.31",
         "80",
         "6.1",
         "0.13",
         "London",
         "291.31"
        ],
        [
         "8",
         "Clouds",
         "2025-02-15 18:00:00",
         "18.3",
         "18.3",
         "18.3",
         "18.3",
         "81",
         "6.52",
         "0.0",
         "London",
         "291.3"
        ],
        [
         "27",
         "Clouds",
         "2025-02-15 00:00:00",
         "18.29",
         "18.63",
         "17.6",
         "18.29",
         "94",
         "1.12",
         "0.0",
         "Seville",
         "291.29"
        ],
        [
         "1",
         "Clouds",
         "2025-02-14 21:00:00",
         "18.27",
         "18.27",
         "18.27",
         "18.28",
         "82",
         "7.22",
         "0.0",
         "London",
         "291.27"
        ],
        [
         "0",
         "Clouds",
         "2025-02-14 18:00:00",
         "18.26",
         "18.26",
         "18.26",
         "18.26",
         "83",
         "7.31",
         "0.0",
         "London",
         "291.26"
        ]
       ],
       "shape": {
        "columns": 11,
        "rows": 65
       }
      },
      "text/html": [
       "<div>\n",
       "<style scoped>\n",
       "    .dataframe tbody tr th:only-of-type {\n",
       "        vertical-align: middle;\n",
       "    }\n",
       "\n",
       "    .dataframe tbody tr th {\n",
       "        vertical-align: top;\n",
       "    }\n",
       "\n",
       "    .dataframe thead th {\n",
       "        text-align: right;\n",
       "    }\n",
       "</style>\n",
       "<table border=\"1\" class=\"dataframe\">\n",
       "  <thead>\n",
       "    <tr style=\"text-align: right;\">\n",
       "      <th></th>\n",
       "      <th>weather</th>\n",
       "      <th>dt_txt</th>\n",
       "      <th>temp</th>\n",
       "      <th>feels_like</th>\n",
       "      <th>temp_min</th>\n",
       "      <th>temp_max</th>\n",
       "      <th>humidity</th>\n",
       "      <th>wind_speed</th>\n",
       "      <th>rain_3h</th>\n",
       "      <th>city</th>\n",
       "      <th>temp_k</th>\n",
       "    </tr>\n",
       "  </thead>\n",
       "  <tbody>\n",
       "    <tr>\n",
       "      <th>63</th>\n",
       "      <td>Clouds</td>\n",
       "      <td>2025-02-19 12:00:00</td>\n",
       "      <td>30.47</td>\n",
       "      <td>30.12</td>\n",
       "      <td>30.47</td>\n",
       "      <td>30.47</td>\n",
       "      <td>39</td>\n",
       "      <td>1.39</td>\n",
       "      <td>0.00</td>\n",
       "      <td>Seville</td>\n",
       "      <td>303.47</td>\n",
       "    </tr>\n",
       "    <tr>\n",
       "      <th>55</th>\n",
       "      <td>Clouds</td>\n",
       "      <td>2025-02-18 12:00:00</td>\n",
       "      <td>29.85</td>\n",
       "      <td>29.11</td>\n",
       "      <td>29.85</td>\n",
       "      <td>29.85</td>\n",
       "      <td>36</td>\n",
       "      <td>1.50</td>\n",
       "      <td>0.00</td>\n",
       "      <td>Seville</td>\n",
       "      <td>302.85</td>\n",
       "    </tr>\n",
       "    <tr>\n",
       "      <th>31</th>\n",
       "      <td>Clouds</td>\n",
       "      <td>2025-02-15 12:00:00</td>\n",
       "      <td>29.74</td>\n",
       "      <td>29.98</td>\n",
       "      <td>29.74</td>\n",
       "      <td>29.74</td>\n",
       "      <td>45</td>\n",
       "      <td>2.26</td>\n",
       "      <td>0.00</td>\n",
       "      <td>Seville</td>\n",
       "      <td>302.74</td>\n",
       "    </tr>\n",
       "    <tr>\n",
       "      <th>47</th>\n",
       "      <td>Rain</td>\n",
       "      <td>2025-02-17 12:00:00</td>\n",
       "      <td>29.17</td>\n",
       "      <td>29.76</td>\n",
       "      <td>29.17</td>\n",
       "      <td>29.17</td>\n",
       "      <td>49</td>\n",
       "      <td>2.38</td>\n",
       "      <td>0.45</td>\n",
       "      <td>Seville</td>\n",
       "      <td>302.17</td>\n",
       "    </tr>\n",
       "    <tr>\n",
       "      <th>38</th>\n",
       "      <td>Clouds</td>\n",
       "      <td>2025-02-16 09:00:00</td>\n",
       "      <td>29.09</td>\n",
       "      <td>30.03</td>\n",
       "      <td>29.09</td>\n",
       "      <td>29.09</td>\n",
       "      <td>52</td>\n",
       "      <td>1.54</td>\n",
       "      <td>0.00</td>\n",
       "      <td>Seville</td>\n",
       "      <td>302.09</td>\n",
       "    </tr>\n",
       "    <tr>\n",
       "      <th>...</th>\n",
       "      <td>...</td>\n",
       "      <td>...</td>\n",
       "      <td>...</td>\n",
       "      <td>...</td>\n",
       "      <td>...</td>\n",
       "      <td>...</td>\n",
       "      <td>...</td>\n",
       "      <td>...</td>\n",
       "      <td>...</td>\n",
       "      <td>...</td>\n",
       "      <td>...</td>\n",
       "    </tr>\n",
       "    <tr>\n",
       "      <th>28</th>\n",
       "      <td>Clouds</td>\n",
       "      <td>2025-02-15 03:00:00</td>\n",
       "      <td>17.10</td>\n",
       "      <td>17.40</td>\n",
       "      <td>17.10</td>\n",
       "      <td>17.10</td>\n",
       "      <td>97</td>\n",
       "      <td>0.93</td>\n",
       "      <td>0.00</td>\n",
       "      <td>Seville</td>\n",
       "      <td>290.10</td>\n",
       "    </tr>\n",
       "    <tr>\n",
       "      <th>59</th>\n",
       "      <td>Clouds</td>\n",
       "      <td>2025-02-19 00:00:00</td>\n",
       "      <td>16.96</td>\n",
       "      <td>17.27</td>\n",
       "      <td>16.96</td>\n",
       "      <td>16.96</td>\n",
       "      <td>98</td>\n",
       "      <td>0.88</td>\n",
       "      <td>0.00</td>\n",
       "      <td>Seville</td>\n",
       "      <td>289.96</td>\n",
       "    </tr>\n",
       "    <tr>\n",
       "      <th>51</th>\n",
       "      <td>Clouds</td>\n",
       "      <td>2025-02-18 00:00:00</td>\n",
       "      <td>16.83</td>\n",
       "      <td>17.13</td>\n",
       "      <td>16.83</td>\n",
       "      <td>16.83</td>\n",
       "      <td>98</td>\n",
       "      <td>0.73</td>\n",
       "      <td>0.00</td>\n",
       "      <td>Seville</td>\n",
       "      <td>289.83</td>\n",
       "    </tr>\n",
       "    <tr>\n",
       "      <th>52</th>\n",
       "      <td>Clouds</td>\n",
       "      <td>2025-02-18 03:00:00</td>\n",
       "      <td>16.62</td>\n",
       "      <td>16.90</td>\n",
       "      <td>16.62</td>\n",
       "      <td>16.62</td>\n",
       "      <td>98</td>\n",
       "      <td>0.84</td>\n",
       "      <td>0.00</td>\n",
       "      <td>Seville</td>\n",
       "      <td>289.62</td>\n",
       "    </tr>\n",
       "    <tr>\n",
       "      <th>60</th>\n",
       "      <td>Clouds</td>\n",
       "      <td>2025-02-19 03:00:00</td>\n",
       "      <td>16.58</td>\n",
       "      <td>16.80</td>\n",
       "      <td>16.58</td>\n",
       "      <td>16.58</td>\n",
       "      <td>96</td>\n",
       "      <td>0.61</td>\n",
       "      <td>0.00</td>\n",
       "      <td>Seville</td>\n",
       "      <td>289.58</td>\n",
       "    </tr>\n",
       "  </tbody>\n",
       "</table>\n",
       "<p>65 rows × 11 columns</p>\n",
       "</div>"
      ],
      "text/plain": [
       "   weather               dt_txt   temp  feels_like  temp_min  temp_max  \\\n",
       "63  Clouds  2025-02-19 12:00:00  30.47       30.12     30.47     30.47   \n",
       "55  Clouds  2025-02-18 12:00:00  29.85       29.11     29.85     29.85   \n",
       "31  Clouds  2025-02-15 12:00:00  29.74       29.98     29.74     29.74   \n",
       "47    Rain  2025-02-17 12:00:00  29.17       29.76     29.17     29.17   \n",
       "38  Clouds  2025-02-16 09:00:00  29.09       30.03     29.09     29.09   \n",
       "..     ...                  ...    ...         ...       ...       ...   \n",
       "28  Clouds  2025-02-15 03:00:00  17.10       17.40     17.10     17.10   \n",
       "59  Clouds  2025-02-19 00:00:00  16.96       17.27     16.96     16.96   \n",
       "51  Clouds  2025-02-18 00:00:00  16.83       17.13     16.83     16.83   \n",
       "52  Clouds  2025-02-18 03:00:00  16.62       16.90     16.62     16.62   \n",
       "60  Clouds  2025-02-19 03:00:00  16.58       16.80     16.58     16.58   \n",
       "\n",
       "    humidity  wind_speed  rain_3h     city  temp_k  \n",
       "63        39        1.39     0.00  Seville  303.47  \n",
       "55        36        1.50     0.00  Seville  302.85  \n",
       "31        45        2.26     0.00  Seville  302.74  \n",
       "47        49        2.38     0.45  Seville  302.17  \n",
       "38        52        1.54     0.00  Seville  302.09  \n",
       "..       ...         ...      ...      ...     ...  \n",
       "28        97        0.93     0.00  Seville  290.10  \n",
       "59        98        0.88     0.00  Seville  289.96  \n",
       "51        98        0.73     0.00  Seville  289.83  \n",
       "52        98        0.84     0.00  Seville  289.62  \n",
       "60        96        0.61     0.00  Seville  289.58  \n",
       "\n",
       "[65 rows x 11 columns]"
      ]
     },
     "execution_count": 28,
     "metadata": {},
     "output_type": "execute_result"
    }
   ],
   "source": [
    "weather_df.sort_values(by='temp_max', ascending=False)\n"
   ]
  },
  {
   "cell_type": "markdown",
   "metadata": {},
   "source": [
    "# 7 - Agrupar por prevision (columna weather) y calcular temperatura mínima y máxima"
   ]
  },
  {
   "cell_type": "code",
   "execution_count": 29,
   "metadata": {},
   "outputs": [
    {
     "data": {
      "application/vnd.microsoft.datawrangler.viewer.v0+json": {
       "columns": [
        {
         "name": "weather",
         "rawType": "object",
         "type": "string"
        },
        {
         "name": "min",
         "rawType": "float64",
         "type": "float"
        },
        {
         "name": "max",
         "rawType": "float64",
         "type": "float"
        }
       ],
       "conversionMethod": "pd.DataFrame",
       "ref": "35ff18f5-2a14-4535-9da2-d7f458810802",
       "rows": [
        [
         "Clouds",
         "16.58",
         "30.47"
        ],
        [
         "Rain",
         "17.74",
         "29.17"
        ]
       ],
       "shape": {
        "columns": 2,
        "rows": 2
       }
      },
      "text/html": [
       "<div>\n",
       "<style scoped>\n",
       "    .dataframe tbody tr th:only-of-type {\n",
       "        vertical-align: middle;\n",
       "    }\n",
       "\n",
       "    .dataframe tbody tr th {\n",
       "        vertical-align: top;\n",
       "    }\n",
       "\n",
       "    .dataframe thead th {\n",
       "        text-align: right;\n",
       "    }\n",
       "</style>\n",
       "<table border=\"1\" class=\"dataframe\">\n",
       "  <thead>\n",
       "    <tr style=\"text-align: right;\">\n",
       "      <th></th>\n",
       "      <th>min</th>\n",
       "      <th>max</th>\n",
       "    </tr>\n",
       "    <tr>\n",
       "      <th>weather</th>\n",
       "      <th></th>\n",
       "      <th></th>\n",
       "    </tr>\n",
       "  </thead>\n",
       "  <tbody>\n",
       "    <tr>\n",
       "      <th>Clouds</th>\n",
       "      <td>16.58</td>\n",
       "      <td>30.47</td>\n",
       "    </tr>\n",
       "    <tr>\n",
       "      <th>Rain</th>\n",
       "      <td>17.74</td>\n",
       "      <td>29.17</td>\n",
       "    </tr>\n",
       "  </tbody>\n",
       "</table>\n",
       "</div>"
      ],
      "text/plain": [
       "           min    max\n",
       "weather              \n",
       "Clouds   16.58  30.47\n",
       "Rain     17.74  29.17"
      ]
     },
     "execution_count": 29,
     "metadata": {},
     "output_type": "execute_result"
    }
   ],
   "source": [
    "\n",
    "(weather_df\n",
    "    .groupby('weather')\n",
    "    .temp\n",
    "    .agg(['min', 'max'])\n",
    ")"
   ]
  },
  {
   "cell_type": "markdown",
   "metadata": {},
   "source": [
    "# 8 - Agrupar por ciudad (columna 'city') y calcular temperatura media"
   ]
  },
  {
   "cell_type": "code",
   "execution_count": 30,
   "metadata": {},
   "outputs": [
    {
     "data": {
      "text/plain": [
       "city\n",
       "London     18.3664\n",
       "Seville    22.3235\n",
       "Name: temp, dtype: float64"
      ]
     },
     "execution_count": 30,
     "metadata": {},
     "output_type": "execute_result"
    }
   ],
   "source": [
    "(weather_df\n",
    "    .groupby('city')\n",
    "    .temp\n",
    "    .mean()\n",
    ")"
   ]
  },
  {
   "cell_type": "markdown",
   "metadata": {},
   "source": [
    "# 9 - Crear un nuevo dataframe con las columnas 'dt_txt', 'city' y 'humidity'"
   ]
  },
  {
   "cell_type": "code",
   "execution_count": 31,
   "metadata": {},
   "outputs": [
    {
     "data": {
      "application/vnd.microsoft.datawrangler.viewer.v0+json": {
       "columns": [
        {
         "name": "index",
         "rawType": "int64",
         "type": "integer"
        },
        {
         "name": "dt_txt",
         "rawType": "object",
         "type": "string"
        },
        {
         "name": "city",
         "rawType": "object",
         "type": "string"
        },
        {
         "name": "humidity",
         "rawType": "int64",
         "type": "integer"
        }
       ],
       "conversionMethod": "pd.DataFrame",
       "ref": "c34e1a01-19e9-4078-bedb-1e5881343a6f",
       "rows": [
        [
         "0",
         "2025-02-14 18:00:00",
         "London",
         "83"
        ],
        [
         "1",
         "2025-02-14 21:00:00",
         "London",
         "82"
        ],
        [
         "2",
         "2025-02-15 00:00:00",
         "London",
         "80"
        ],
        [
         "3",
         "2025-02-15 03:00:00",
         "London",
         "79"
        ],
        [
         "4",
         "2025-02-15 06:00:00",
         "London",
         "80"
        ],
        [
         "5",
         "2025-02-15 09:00:00",
         "London",
         "80"
        ],
        [
         "6",
         "2025-02-15 12:00:00",
         "London",
         "80"
        ],
        [
         "7",
         "2025-02-15 15:00:00",
         "London",
         "81"
        ],
        [
         "8",
         "2025-02-15 18:00:00",
         "London",
         "81"
        ],
        [
         "9",
         "2025-02-15 21:00:00",
         "London",
         "81"
        ],
        [
         "10",
         "2025-02-16 00:00:00",
         "London",
         "80"
        ],
        [
         "11",
         "2025-02-16 03:00:00",
         "London",
         "80"
        ],
        [
         "12",
         "2025-02-16 06:00:00",
         "London",
         "80"
        ],
        [
         "13",
         "2025-02-16 09:00:00",
         "London",
         "80"
        ],
        [
         "14",
         "2025-02-16 12:00:00",
         "London",
         "82"
        ],
        [
         "15",
         "2025-02-16 15:00:00",
         "London",
         "83"
        ],
        [
         "16",
         "2025-02-16 18:00:00",
         "London",
         "83"
        ],
        [
         "17",
         "2025-02-16 21:00:00",
         "London",
         "82"
        ],
        [
         "18",
         "2025-02-17 00:00:00",
         "London",
         "80"
        ],
        [
         "19",
         "2025-02-17 03:00:00",
         "London",
         "77"
        ],
        [
         "20",
         "2025-02-17 06:00:00",
         "London",
         "78"
        ],
        [
         "21",
         "2025-02-17 09:00:00",
         "London",
         "78"
        ],
        [
         "22",
         "2025-02-17 12:00:00",
         "London",
         "78"
        ],
        [
         "23",
         "2025-02-17 15:00:00",
         "London",
         "81"
        ],
        [
         "24",
         "2025-02-17 18:00:00",
         "London",
         "80"
        ],
        [
         "25",
         "2025-02-14 18:00:00",
         "Seville",
         "83"
        ],
        [
         "26",
         "2025-02-14 21:00:00",
         "Seville",
         "88"
        ],
        [
         "27",
         "2025-02-15 00:00:00",
         "Seville",
         "94"
        ],
        [
         "28",
         "2025-02-15 03:00:00",
         "Seville",
         "97"
        ],
        [
         "29",
         "2025-02-15 06:00:00",
         "Seville",
         "71"
        ],
        [
         "30",
         "2025-02-15 09:00:00",
         "Seville",
         "52"
        ],
        [
         "31",
         "2025-02-15 12:00:00",
         "Seville",
         "45"
        ],
        [
         "32",
         "2025-02-15 15:00:00",
         "Seville",
         "66"
        ],
        [
         "33",
         "2025-02-15 18:00:00",
         "Seville",
         "82"
        ],
        [
         "34",
         "2025-02-15 21:00:00",
         "Seville",
         "97"
        ],
        [
         "35",
         "2025-02-16 00:00:00",
         "Seville",
         "98"
        ],
        [
         "36",
         "2025-02-16 03:00:00",
         "Seville",
         "98"
        ],
        [
         "37",
         "2025-02-16 06:00:00",
         "Seville",
         "78"
        ],
        [
         "38",
         "2025-02-16 09:00:00",
         "Seville",
         "52"
        ],
        [
         "39",
         "2025-02-16 12:00:00",
         "Seville",
         "54"
        ],
        [
         "40",
         "2025-02-16 15:00:00",
         "Seville",
         "73"
        ],
        [
         "41",
         "2025-02-16 18:00:00",
         "Seville",
         "96"
        ],
        [
         "42",
         "2025-02-16 21:00:00",
         "Seville",
         "99"
        ],
        [
         "43",
         "2025-02-17 00:00:00",
         "Seville",
         "99"
        ],
        [
         "44",
         "2025-02-17 03:00:00",
         "Seville",
         "97"
        ],
        [
         "45",
         "2025-02-17 06:00:00",
         "Seville",
         "85"
        ],
        [
         "46",
         "2025-02-17 09:00:00",
         "Seville",
         "57"
        ],
        [
         "47",
         "2025-02-17 12:00:00",
         "Seville",
         "49"
        ],
        [
         "48",
         "2025-02-17 15:00:00",
         "Seville",
         "68"
        ],
        [
         "49",
         "2025-02-17 18:00:00",
         "Seville",
         "95"
        ]
       ],
       "shape": {
        "columns": 3,
        "rows": 65
       }
      },
      "text/html": [
       "<div>\n",
       "<style scoped>\n",
       "    .dataframe tbody tr th:only-of-type {\n",
       "        vertical-align: middle;\n",
       "    }\n",
       "\n",
       "    .dataframe tbody tr th {\n",
       "        vertical-align: top;\n",
       "    }\n",
       "\n",
       "    .dataframe thead th {\n",
       "        text-align: right;\n",
       "    }\n",
       "</style>\n",
       "<table border=\"1\" class=\"dataframe\">\n",
       "  <thead>\n",
       "    <tr style=\"text-align: right;\">\n",
       "      <th></th>\n",
       "      <th>dt_txt</th>\n",
       "      <th>city</th>\n",
       "      <th>humidity</th>\n",
       "    </tr>\n",
       "  </thead>\n",
       "  <tbody>\n",
       "    <tr>\n",
       "      <th>0</th>\n",
       "      <td>2025-02-14 18:00:00</td>\n",
       "      <td>London</td>\n",
       "      <td>83</td>\n",
       "    </tr>\n",
       "    <tr>\n",
       "      <th>1</th>\n",
       "      <td>2025-02-14 21:00:00</td>\n",
       "      <td>London</td>\n",
       "      <td>82</td>\n",
       "    </tr>\n",
       "    <tr>\n",
       "      <th>2</th>\n",
       "      <td>2025-02-15 00:00:00</td>\n",
       "      <td>London</td>\n",
       "      <td>80</td>\n",
       "    </tr>\n",
       "    <tr>\n",
       "      <th>3</th>\n",
       "      <td>2025-02-15 03:00:00</td>\n",
       "      <td>London</td>\n",
       "      <td>79</td>\n",
       "    </tr>\n",
       "    <tr>\n",
       "      <th>4</th>\n",
       "      <td>2025-02-15 06:00:00</td>\n",
       "      <td>London</td>\n",
       "      <td>80</td>\n",
       "    </tr>\n",
       "    <tr>\n",
       "      <th>...</th>\n",
       "      <td>...</td>\n",
       "      <td>...</td>\n",
       "      <td>...</td>\n",
       "    </tr>\n",
       "    <tr>\n",
       "      <th>60</th>\n",
       "      <td>2025-02-19 03:00:00</td>\n",
       "      <td>Seville</td>\n",
       "      <td>96</td>\n",
       "    </tr>\n",
       "    <tr>\n",
       "      <th>61</th>\n",
       "      <td>2025-02-19 06:00:00</td>\n",
       "      <td>Seville</td>\n",
       "      <td>68</td>\n",
       "    </tr>\n",
       "    <tr>\n",
       "      <th>62</th>\n",
       "      <td>2025-02-19 09:00:00</td>\n",
       "      <td>Seville</td>\n",
       "      <td>43</td>\n",
       "    </tr>\n",
       "    <tr>\n",
       "      <th>63</th>\n",
       "      <td>2025-02-19 12:00:00</td>\n",
       "      <td>Seville</td>\n",
       "      <td>39</td>\n",
       "    </tr>\n",
       "    <tr>\n",
       "      <th>64</th>\n",
       "      <td>2025-02-19 15:00:00</td>\n",
       "      <td>Seville</td>\n",
       "      <td>60</td>\n",
       "    </tr>\n",
       "  </tbody>\n",
       "</table>\n",
       "<p>65 rows × 3 columns</p>\n",
       "</div>"
      ],
      "text/plain": [
       "                 dt_txt     city  humidity\n",
       "0   2025-02-14 18:00:00   London        83\n",
       "1   2025-02-14 21:00:00   London        82\n",
       "2   2025-02-15 00:00:00   London        80\n",
       "3   2025-02-15 03:00:00   London        79\n",
       "4   2025-02-15 06:00:00   London        80\n",
       "..                  ...      ...       ...\n",
       "60  2025-02-19 03:00:00  Seville        96\n",
       "61  2025-02-19 06:00:00  Seville        68\n",
       "62  2025-02-19 09:00:00  Seville        43\n",
       "63  2025-02-19 12:00:00  Seville        39\n",
       "64  2025-02-19 15:00:00  Seville        60\n",
       "\n",
       "[65 rows x 3 columns]"
      ]
     },
     "execution_count": 31,
     "metadata": {},
     "output_type": "execute_result"
    }
   ],
   "source": [
    "df_humidity = weather_df[['dt_txt', 'city', 'humidity']]\n",
    "df_humidity"
   ]
  },
  {
   "cell_type": "markdown",
   "metadata": {},
   "source": [
    "# 10 - Renombrar la columna 'dt_txt' a 'datetime'"
   ]
  },
  {
   "cell_type": "code",
   "execution_count": 33,
   "metadata": {},
   "outputs": [
    {
     "data": {
      "application/vnd.microsoft.datawrangler.viewer.v0+json": {
       "columns": [
        {
         "name": "index",
         "rawType": "int64",
         "type": "integer"
        },
        {
         "name": "datetime",
         "rawType": "object",
         "type": "string"
        },
        {
         "name": "city",
         "rawType": "object",
         "type": "string"
        },
        {
         "name": "humidity",
         "rawType": "int64",
         "type": "integer"
        }
       ],
       "conversionMethod": "pd.DataFrame",
       "ref": "1ffffeef-790d-47b3-95da-87996d778b2a",
       "rows": [
        [
         "0",
         "2025-02-14 18:00:00",
         "London",
         "83"
        ],
        [
         "1",
         "2025-02-14 21:00:00",
         "London",
         "82"
        ],
        [
         "2",
         "2025-02-15 00:00:00",
         "London",
         "80"
        ],
        [
         "3",
         "2025-02-15 03:00:00",
         "London",
         "79"
        ],
        [
         "4",
         "2025-02-15 06:00:00",
         "London",
         "80"
        ],
        [
         "5",
         "2025-02-15 09:00:00",
         "London",
         "80"
        ],
        [
         "6",
         "2025-02-15 12:00:00",
         "London",
         "80"
        ],
        [
         "7",
         "2025-02-15 15:00:00",
         "London",
         "81"
        ],
        [
         "8",
         "2025-02-15 18:00:00",
         "London",
         "81"
        ],
        [
         "9",
         "2025-02-15 21:00:00",
         "London",
         "81"
        ],
        [
         "10",
         "2025-02-16 00:00:00",
         "London",
         "80"
        ],
        [
         "11",
         "2025-02-16 03:00:00",
         "London",
         "80"
        ],
        [
         "12",
         "2025-02-16 06:00:00",
         "London",
         "80"
        ],
        [
         "13",
         "2025-02-16 09:00:00",
         "London",
         "80"
        ],
        [
         "14",
         "2025-02-16 12:00:00",
         "London",
         "82"
        ],
        [
         "15",
         "2025-02-16 15:00:00",
         "London",
         "83"
        ],
        [
         "16",
         "2025-02-16 18:00:00",
         "London",
         "83"
        ],
        [
         "17",
         "2025-02-16 21:00:00",
         "London",
         "82"
        ],
        [
         "18",
         "2025-02-17 00:00:00",
         "London",
         "80"
        ],
        [
         "19",
         "2025-02-17 03:00:00",
         "London",
         "77"
        ],
        [
         "20",
         "2025-02-17 06:00:00",
         "London",
         "78"
        ],
        [
         "21",
         "2025-02-17 09:00:00",
         "London",
         "78"
        ],
        [
         "22",
         "2025-02-17 12:00:00",
         "London",
         "78"
        ],
        [
         "23",
         "2025-02-17 15:00:00",
         "London",
         "81"
        ],
        [
         "24",
         "2025-02-17 18:00:00",
         "London",
         "80"
        ],
        [
         "25",
         "2025-02-14 18:00:00",
         "Seville",
         "83"
        ],
        [
         "26",
         "2025-02-14 21:00:00",
         "Seville",
         "88"
        ],
        [
         "27",
         "2025-02-15 00:00:00",
         "Seville",
         "94"
        ],
        [
         "28",
         "2025-02-15 03:00:00",
         "Seville",
         "97"
        ],
        [
         "29",
         "2025-02-15 06:00:00",
         "Seville",
         "71"
        ],
        [
         "30",
         "2025-02-15 09:00:00",
         "Seville",
         "52"
        ],
        [
         "31",
         "2025-02-15 12:00:00",
         "Seville",
         "45"
        ],
        [
         "32",
         "2025-02-15 15:00:00",
         "Seville",
         "66"
        ],
        [
         "33",
         "2025-02-15 18:00:00",
         "Seville",
         "82"
        ],
        [
         "34",
         "2025-02-15 21:00:00",
         "Seville",
         "97"
        ],
        [
         "35",
         "2025-02-16 00:00:00",
         "Seville",
         "98"
        ],
        [
         "36",
         "2025-02-16 03:00:00",
         "Seville",
         "98"
        ],
        [
         "37",
         "2025-02-16 06:00:00",
         "Seville",
         "78"
        ],
        [
         "38",
         "2025-02-16 09:00:00",
         "Seville",
         "52"
        ],
        [
         "39",
         "2025-02-16 12:00:00",
         "Seville",
         "54"
        ],
        [
         "40",
         "2025-02-16 15:00:00",
         "Seville",
         "73"
        ],
        [
         "41",
         "2025-02-16 18:00:00",
         "Seville",
         "96"
        ],
        [
         "42",
         "2025-02-16 21:00:00",
         "Seville",
         "99"
        ],
        [
         "43",
         "2025-02-17 00:00:00",
         "Seville",
         "99"
        ],
        [
         "44",
         "2025-02-17 03:00:00",
         "Seville",
         "97"
        ],
        [
         "45",
         "2025-02-17 06:00:00",
         "Seville",
         "85"
        ],
        [
         "46",
         "2025-02-17 09:00:00",
         "Seville",
         "57"
        ],
        [
         "47",
         "2025-02-17 12:00:00",
         "Seville",
         "49"
        ],
        [
         "48",
         "2025-02-17 15:00:00",
         "Seville",
         "68"
        ],
        [
         "49",
         "2025-02-17 18:00:00",
         "Seville",
         "95"
        ]
       ],
       "shape": {
        "columns": 3,
        "rows": 65
       }
      },
      "text/html": [
       "<div>\n",
       "<style scoped>\n",
       "    .dataframe tbody tr th:only-of-type {\n",
       "        vertical-align: middle;\n",
       "    }\n",
       "\n",
       "    .dataframe tbody tr th {\n",
       "        vertical-align: top;\n",
       "    }\n",
       "\n",
       "    .dataframe thead th {\n",
       "        text-align: right;\n",
       "    }\n",
       "</style>\n",
       "<table border=\"1\" class=\"dataframe\">\n",
       "  <thead>\n",
       "    <tr style=\"text-align: right;\">\n",
       "      <th></th>\n",
       "      <th>datetime</th>\n",
       "      <th>city</th>\n",
       "      <th>humidity</th>\n",
       "    </tr>\n",
       "  </thead>\n",
       "  <tbody>\n",
       "    <tr>\n",
       "      <th>0</th>\n",
       "      <td>2025-02-14 18:00:00</td>\n",
       "      <td>London</td>\n",
       "      <td>83</td>\n",
       "    </tr>\n",
       "    <tr>\n",
       "      <th>1</th>\n",
       "      <td>2025-02-14 21:00:00</td>\n",
       "      <td>London</td>\n",
       "      <td>82</td>\n",
       "    </tr>\n",
       "    <tr>\n",
       "      <th>2</th>\n",
       "      <td>2025-02-15 00:00:00</td>\n",
       "      <td>London</td>\n",
       "      <td>80</td>\n",
       "    </tr>\n",
       "    <tr>\n",
       "      <th>3</th>\n",
       "      <td>2025-02-15 03:00:00</td>\n",
       "      <td>London</td>\n",
       "      <td>79</td>\n",
       "    </tr>\n",
       "    <tr>\n",
       "      <th>4</th>\n",
       "      <td>2025-02-15 06:00:00</td>\n",
       "      <td>London</td>\n",
       "      <td>80</td>\n",
       "    </tr>\n",
       "    <tr>\n",
       "      <th>...</th>\n",
       "      <td>...</td>\n",
       "      <td>...</td>\n",
       "      <td>...</td>\n",
       "    </tr>\n",
       "    <tr>\n",
       "      <th>60</th>\n",
       "      <td>2025-02-19 03:00:00</td>\n",
       "      <td>Seville</td>\n",
       "      <td>96</td>\n",
       "    </tr>\n",
       "    <tr>\n",
       "      <th>61</th>\n",
       "      <td>2025-02-19 06:00:00</td>\n",
       "      <td>Seville</td>\n",
       "      <td>68</td>\n",
       "    </tr>\n",
       "    <tr>\n",
       "      <th>62</th>\n",
       "      <td>2025-02-19 09:00:00</td>\n",
       "      <td>Seville</td>\n",
       "      <td>43</td>\n",
       "    </tr>\n",
       "    <tr>\n",
       "      <th>63</th>\n",
       "      <td>2025-02-19 12:00:00</td>\n",
       "      <td>Seville</td>\n",
       "      <td>39</td>\n",
       "    </tr>\n",
       "    <tr>\n",
       "      <th>64</th>\n",
       "      <td>2025-02-19 15:00:00</td>\n",
       "      <td>Seville</td>\n",
       "      <td>60</td>\n",
       "    </tr>\n",
       "  </tbody>\n",
       "</table>\n",
       "<p>65 rows × 3 columns</p>\n",
       "</div>"
      ],
      "text/plain": [
       "               datetime     city  humidity\n",
       "0   2025-02-14 18:00:00   London        83\n",
       "1   2025-02-14 21:00:00   London        82\n",
       "2   2025-02-15 00:00:00   London        80\n",
       "3   2025-02-15 03:00:00   London        79\n",
       "4   2025-02-15 06:00:00   London        80\n",
       "..                  ...      ...       ...\n",
       "60  2025-02-19 03:00:00  Seville        96\n",
       "61  2025-02-19 06:00:00  Seville        68\n",
       "62  2025-02-19 09:00:00  Seville        43\n",
       "63  2025-02-19 12:00:00  Seville        39\n",
       "64  2025-02-19 15:00:00  Seville        60\n",
       "\n",
       "[65 rows x 3 columns]"
      ]
     },
     "execution_count": 33,
     "metadata": {},
     "output_type": "execute_result"
    }
   ],
   "source": [
    "df_humidity.rename(columns={'dt_txt': 'datetime'})"
   ]
  },
  {
   "cell_type": "markdown",
   "metadata": {},
   "source": [
    "# 11 - Guardar el nuevo datafreme en un fichero csv (Sin añadir el índice, index = False)"
   ]
  },
  {
   "cell_type": "code",
   "execution_count": 32,
   "metadata": {},
   "outputs": [],
   "source": [
    "df_humidity.to_csv(\"humidity.csv\", index=False)"
   ]
  }
 ],
 "metadata": {
  "kernelspec": {
   "display_name": "Python 3 (ipykernel)",
   "language": "python",
   "name": "python3"
  },
  "language_info": {
   "codemirror_mode": {
    "name": "ipython",
    "version": 3
   },
   "file_extension": ".py",
   "mimetype": "text/x-python",
   "name": "python",
   "nbconvert_exporter": "python",
   "pygments_lexer": "ipython3",
   "version": "3.12.0"
  }
 },
 "nbformat": 4,
 "nbformat_minor": 4
}
